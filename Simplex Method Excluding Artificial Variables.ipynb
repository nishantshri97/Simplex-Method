{
  "nbformat": 4,
  "nbformat_minor": 0,
  "metadata": {
    "colab": {
      "name": "Method_la_Simplexu2.ipynb",
      "provenance": [],
      "collapsed_sections": []
    },
    "kernelspec": {
      "name": "python3",
      "display_name": "Python 3"
    }
  },
  "cells": [
    {
      "cell_type": "code",
      "metadata": {
        "id": "-XXCOPKUyc_Z",
        "colab_type": "code",
        "colab": {}
      },
      "source": [
        "import numpy as np \n",
        "from fractions import Fraction  "
      ],
      "execution_count": 0,
      "outputs": []
    },
    {
      "cell_type": "code",
      "metadata": {
        "id": "fg0nO6rXasRt",
        "colab_type": "code",
        "outputId": "d72f3b42-63f4-4a32-bb47-663ef887a04e",
        "colab": {
          "base_uri": "https://localhost:8080/",
          "height": 51
        }
      },
      "source": [
        "row_A=int(input(\"# of constraint:- \"))\n",
        "col_A=int(input(\"Total variables(including slack):- \"))"
      ],
      "execution_count": 0,
      "outputs": [
        {
          "output_type": "stream",
          "text": [
            "# of constraint:- 3\n",
            "Total variables(including slack):- 5\n"
          ],
          "name": "stdout"
        }
      ]
    },
    {
      "cell_type": "code",
      "metadata": {
        "id": "d14_47mfawxr",
        "colab_type": "code",
        "outputId": "50ca8343-8939-465e-93b2-48b17b98d039",
        "colab": {
          "base_uri": "https://localhost:8080/",
          "height": 323
        }
      },
      "source": [
        "A=[]\n",
        "for i in range(row_A):\n",
        "    a=[]\n",
        "    for j in range(col_A):\n",
        "        a.append(int(input(\"coefficient row wise:- \")))\n",
        "    A.append(a)\n",
        "    print(\"next row coefficient:-\")\n",
        "A=np.array(A)"
      ],
      "execution_count": 0,
      "outputs": [
        {
          "output_type": "stream",
          "text": [
            "coefficient row wise:- 1\n",
            "coefficient row wise:- 1\n",
            "coefficient row wise:- 1\n",
            "coefficient row wise:- 0\n",
            "coefficient row wise:- 0\n",
            "next row coefficient:-\n",
            "coefficient row wise:- 0\n",
            "coefficient row wise:- 1\n",
            "coefficient row wise:- 0\n",
            "coefficient row wise:- 1\n",
            "coefficient row wise:- 0\n",
            "next row coefficient:-\n",
            "coefficient row wise:- 1\n",
            "coefficient row wise:- 2\n",
            "coefficient row wise:- 0\n",
            "coefficient row wise:- 0\n",
            "coefficient row wise:- 1\n",
            "next row coefficient:-\n"
          ],
          "name": "stdout"
        }
      ]
    },
    {
      "cell_type": "code",
      "metadata": {
        "id": "mdTDHbJ3a0F_",
        "colab_type": "code",
        "outputId": "55b057ab-9708-47c1-b2f9-3acfb0c9b376",
        "colab": {
          "base_uri": "https://localhost:8080/",
          "height": 85
        }
      },
      "source": [
        "b=[]\n",
        "print(\"Enter Xb:-\")\n",
        "for i in range(row_A):\n",
        "    b.append(int(input(\"Enter\")))\n",
        "b=np.array(b) "
      ],
      "execution_count": 0,
      "outputs": [
        {
          "output_type": "stream",
          "text": [
            "Enter Xb:-\n",
            "Enter6\n",
            "Enter3\n",
            "Enter9\n"
          ],
          "name": "stdout"
        }
      ]
    },
    {
      "cell_type": "code",
      "metadata": {
        "id": "5EfyeAoLa3pa",
        "colab_type": "code",
        "outputId": "ecb10d17-0c9f-4e10-b830-bf78c83a9deb",
        "colab": {
          "base_uri": "https://localhost:8080/",
          "height": 153
        }
      },
      "source": [
        "print(\"Enter the coefficients of obj fun\")\n",
        "c=[]\n",
        "for i in range(col_A):\n",
        "    c.append(int(input(\"Enter\")))\n",
        "c=np.array(c)\n",
        "\n",
        "print(\"If its a max problem press 1 else if it is a min problem press 2:-\")\n",
        "choice=int(input())\n",
        "if choice==2:\n",
        "  c = c*(-1)\n"
      ],
      "execution_count": 0,
      "outputs": [
        {
          "output_type": "stream",
          "text": [
            "Enter the coefficients of obj fun\n",
            "Enter2\n",
            "Enter5\n",
            "Enter0\n",
            "Enter0\n",
            "Enter0\n",
            "If its a max problem press 1 else if it is a min problem press 2:-\n",
            "1\n"
          ],
          "name": "stdout"
        }
      ]
    },
    {
      "cell_type": "code",
      "metadata": {
        "id": "8fcjR9Z8a7kn",
        "colab_type": "code",
        "outputId": "bbe327cc-9864-4dbd-da51-3625586e4dc7",
        "colab": {
          "base_uri": "https://localhost:8080/",
          "height": 136
        }
      },
      "source": [
        "print(\"Index of indentity matrix basis\")\n",
        "B=[]\n",
        "use=[]\n",
        "for i in range(row_A):\n",
        "    er=[]\n",
        "    for j in range(1):\n",
        "        x=int(input(\"Enter\"))\n",
        "        use.append(x)\n",
        "        er.append(x)\n",
        "    B.append(er)\n",
        "B=np.array(B) \n",
        "print('B__', B)"
      ],
      "execution_count": 0,
      "outputs": [
        {
          "output_type": "stream",
          "text": [
            "Index of indentity matrix basis\n",
            "Enter2\n",
            "Enter3\n",
            "Enter4\n",
            "B__ [[2]\n",
            " [3]\n",
            " [4]]\n"
          ],
          "name": "stdout"
        }
      ]
    },
    {
      "cell_type": "code",
      "metadata": {
        "id": "GwY5euv5bAhY",
        "colab_type": "code",
        "outputId": "8af244c1-6f52-433f-f771-54eb536e02d3",
        "colab": {
          "base_uri": "https://localhost:8080/",
          "height": 68
        }
      },
      "source": [
        "flag=0\n",
        "for i in B:\n",
        "    if(flag==0):\n",
        "        cb=np.array(c[i])\n",
        "        flag=1\n",
        "    else:\n",
        "        cb=np.vstack((cb,c[i]))\n",
        "\n",
        "print('cb__', cb)\n",
        "\n",
        "xb = np.transpose([b])\n",
        "table = np.hstack((B, cb))\n",
        "table = np.hstack((table, xb)) \n",
        "\n",
        "\n",
        "table = np.hstack((table, A)) \n",
        "table = np.array(table, dtype ='float')"
      ],
      "execution_count": 0,
      "outputs": [
        {
          "output_type": "stream",
          "text": [
            "cb__ [[0]\n",
            " [0]\n",
            " [0]]\n"
          ],
          "name": "stdout"
        }
      ]
    },
    {
      "cell_type": "code",
      "metadata": {
        "id": "6N4gJfeDbFRt",
        "colab_type": "code",
        "outputId": "173d976f-018a-4cc0-ecf4-df51743cb480",
        "colab": {
          "base_uri": "https://localhost:8080/",
          "height": 119
        }
      },
      "source": [
        "MIN = 0\n",
        "\n",
        "print(\"Table at itr = 0\") \n",
        "print(\"B \\tCb \\tXB\") \n",
        "for row in table: \n",
        "    for el in row: \n",
        "        print(Fraction(str(el)).limit_denominator(100), end ='\\t') \n",
        "    print() \n",
        "print() "
      ],
      "execution_count": 0,
      "outputs": [
        {
          "output_type": "stream",
          "text": [
            "Table at itr = 0\n",
            "B \tCb \tXB\n",
            "2\t0\t6\t1\t1\t1\t0\t0\t\n",
            "3\t0\t3\t0\t1\t0\t1\t0\t\n",
            "4\t0\t9\t1\t2\t0\t0\t1\t\n",
            "\n"
          ],
          "name": "stdout"
        }
      ]
    },
    {
      "cell_type": "code",
      "metadata": {
        "id": "ETAFtB-tbO7d",
        "colab_type": "code",
        "outputId": "f5dccf95-4623-4d3b-9454-0b38b0a892d5",
        "colab": {
          "base_uri": "https://localhost:8080/",
          "height": 561
        }
      },
      "source": [
        "reached = 0\t\n",
        "itr = 1\n",
        "unbounded = 0\n",
        "alternate = 0\n",
        "\n",
        "while reached == 0: \n",
        "\n",
        "    print(\"Iteration number: \", end =' ') \n",
        "    print(itr) \n",
        "    print(\"B \\tC \\tXB \") \n",
        "    for row in table: \n",
        "        for el in row: \n",
        "            print(Fraction(str(el)).limit_denominator(100), end ='\\t') \n",
        "        print() \n",
        "\n",
        "\n",
        "    i = 0\n",
        "    cj_zj = [] \n",
        "    while i<len(A[0]): \n",
        "        cj_zj.append(c[i] - np.sum(table[:, 1]*table[:, 3 + i])) \n",
        "        i = i + 1\n",
        "\n",
        "    print(\"Cj - Zj: \", end =\" \") \n",
        "    for profit in cj_zj: \n",
        "        print(Fraction(str(profit)).limit_denominator(100), end =\", \") \n",
        "    print() \n",
        "    i = 0\n",
        "\n",
        "    b_var = table[:, 0] \n",
        "\n",
        "    while i<len(A[0]) and max(cj_zj)==0: # if max(rel_profit==0) and it is 0 for a NB(because for a basic it will be 0 anyhow) and that column of NB has atleast one positive(>0)\n",
        "                 \n",
        "        j = 0\n",
        "        present = 0 \n",
        "        while j<len(b_var): \n",
        "            if int(b_var[j]) == i: \n",
        "                present = 1 # present == 1 denotes that 'i'th column is Basic column\n",
        "                break; \n",
        "            j+= 1\n",
        "        if present == 0: # present == 0 denotes that 'i'th column is Non-Basic column\n",
        "            if cj_zj[i] == 0 and max(table[:, 3+i])>0: \n",
        "                alternate = 1\n",
        "                print(\"ALTERNATE SOLUTION CASE\") \n",
        "\n",
        "        i+= 1\n",
        "    \n",
        "    print() \n",
        "    \n",
        "    flag = 0\n",
        "    for profit in cj_zj: \n",
        "        if profit>0: \n",
        "            flag = 1 # If even a single rel_profit>0, that means we can further continue\n",
        "            break\n",
        "\n",
        "    if flag == 0: \n",
        "        print(\"Since all profits are less than equal to 0, optimality ha been reached\") \n",
        "        reached = 1\n",
        "        break\n",
        "\n",
        "\n",
        "    k = cj_zj.index(max(cj_zj)) \n",
        "    min = 99999\n",
        "    i = 0; \n",
        "    r = -1\n",
        "\n",
        "    while i<len(table): \n",
        "        if (table[:, 2][i]>0 ): # Here we have assumed that all table[:, 2][i] i.e all Xb are >0   \n",
        "            val = table[:, 2][i]/table[:, 3 + k][i] \n",
        "            if val<min and val>0: # if all val<=0, then we do not enter into if statement and 'r' remains -1. .if any val>0, then no case of unbounded. \n",
        "                min = val \n",
        "                r = i\n",
        "        i+= 1\n",
        "\n",
        "\n",
        "    if r ==-1: \n",
        "        unbounded = 1\n",
        "        print(\"UNBOUNDED CASE\") \n",
        "        break # If unbounded founded, do not continue further.\n",
        "\n",
        "    print(\"pivot element index:\", end =' ') \n",
        "    print(np.array([r, 3 + k])) \n",
        "\n",
        "    pivot = table[r][3 + k] \n",
        "    print(\"pivot element: \", end =\" \") \n",
        "    print(Fraction(pivot).limit_denominator(100)) \n",
        "\n",
        "\n",
        "    # Row Column Transformation begins!\n",
        "    table[r, 2:len(table[0])] = table[r, 2:len(table[0])] / pivot \n",
        "\n",
        "\n",
        "    i = 0\n",
        "    while i<len(table): \n",
        "        if i != r: \n",
        "            table[i, 2:len(table[0])] = table[i, 2:len(table[0])] - table[i][3 + k] *table[r, 2:len(table[0])] \n",
        "        i += 1\n",
        "\n",
        "\n",
        "\n",
        "    table[r][0] = k # k is the index in rel_profit[] that will enter. If k==1, that means x2 will enter\n",
        "    table[r][1] = c[k] \n",
        "\n",
        "    print() \n",
        "    print() \n",
        "    itr+= 1\n",
        "\n",
        "\n",
        "print() \n"
      ],
      "execution_count": 0,
      "outputs": [
        {
          "output_type": "stream",
          "text": [
            "Iteration number:  1\n",
            "B \tC \tXB \n",
            "2\t0\t6\t1\t1\t1\t0\t0\t\n",
            "3\t0\t3\t0\t1\t0\t1\t0\t\n",
            "4\t0\t9\t1\t2\t0\t0\t1\t\n",
            "Cj - Zj:  2, 5, 0, 0, 0, \n",
            "\n",
            "pivot element index: [1 4]\n",
            "pivot element:  1\n",
            "\n",
            "\n",
            "Iteration number:  2\n",
            "B \tC \tXB \n",
            "2\t0\t3\t1\t0\t1\t-1\t0\t\n",
            "1\t5\t3\t0\t1\t0\t1\t0\t\n",
            "4\t0\t3\t1\t0\t0\t-2\t1\t\n",
            "Cj - Zj:  2, 0, 0, -5, 0, \n",
            "\n",
            "pivot element index: [0 3]\n",
            "pivot element:  1\n",
            "\n",
            "\n",
            "Iteration number:  3\n",
            "B \tC \tXB \n",
            "0\t2\t3\t1\t0\t1\t-1\t0\t\n",
            "1\t5\t3\t0\t1\t0\t1\t0\t\n",
            "4\t0\t0\t0\t0\t-1\t-1\t1\t\n",
            "Cj - Zj:  0, 0, -2, -3, 0, \n",
            "\n",
            "Since all profits are less than equal to 0, optimality ha been reached\n",
            "\n"
          ],
          "name": "stdout"
        },
        {
          "output_type": "stream",
          "text": [
            "/usr/local/lib/python3.6/dist-packages/ipykernel_launcher.py:68: RuntimeWarning: divide by zero encountered in double_scalars\n"
          ],
          "name": "stderr"
        }
      ]
    },
    {
      "cell_type": "code",
      "metadata": {
        "id": "pX7FZwpobUa7",
        "colab_type": "code",
        "colab": {}
      },
      "source": [
        "\n",
        "if unbounded == 1: \n",
        "    print(\"unbounded\") \n",
        "    exit() \n",
        "if alternate == 1: \n",
        "    print(\"many optimal sol\") \n"
      ],
      "execution_count": 0,
      "outputs": []
    },
    {
      "cell_type": "code",
      "metadata": {
        "id": "I5eSi6XZbcoK",
        "colab_type": "code",
        "outputId": "d733c9c3-1adc-41ca-a5b0-c34310abd66a",
        "colab": {
          "base_uri": "https://localhost:8080/",
          "height": 136
        }
      },
      "source": [
        "print(\"FINAL TABLE:\") \n",
        "print(\"B \\tCB \\tXB\") \n",
        "for row in table: \n",
        "    for el in row: \n",
        "        print(Fraction(str(el)).limit_denominator(100), end ='\\t') \n",
        "    print() \n",
        "print() \n",
        "\n"
      ],
      "execution_count": 0,
      "outputs": [
        {
          "output_type": "stream",
          "text": [
            "FINAL TABLE:\n",
            "B \tCB \tXB\n",
            "0\t2\t3\t1\t0\t1\t-1\t0\t\n",
            "1\t5\t3\t0\t1\t0\t1\t0\t\n",
            "4\t0\t0\t0\t0\t-1\t-1\t1\t\n",
            "\n",
            "The Optimal Value of Objective Function:  "
          ],
          "name": "stdout"
        }
      ]
    },
    {
      "cell_type": "code",
      "metadata": {
        "id": "ItY1ZQL-bg2h",
        "colab_type": "code",
        "outputId": "3f32bc7a-bd53-4e56-fd5e-fbcb3a0055d8",
        "colab": {
          "base_uri": "https://localhost:8080/",
          "height": 68
        }
      },
      "source": [
        "print(\"The Optimal Value of Objective Function: \", end =\" \") \n",
        "basis = [] \n",
        "i = 0\n",
        "sum = 0\n",
        "while i<len(table): \n",
        "    sum += c[int(table[i][0])]*table[i][2] \n",
        "    temp = \"x\"+str(int(table[i][0])+1) \n",
        "    basis.append(temp) \n",
        "    i+= 1\n",
        "\n",
        "if MIN == 1: \n",
        "    print(-Fraction(str(sum)).limit_denominator(100)) \n",
        "else: \n",
        "    print(Fraction(str(sum)).limit_denominator(100)) \n",
        "print(\"Final Basis: \", end =\" \") \n",
        "print(basis) \n",
        "\n",
        "print() \n"
      ],
      "execution_count": 0,
      "outputs": [
        {
          "output_type": "stream",
          "text": [
            "The Optimal Value of Objective Function:  21\n",
            "Final Basis:  ['x1', 'x2', 'x5']\n",
            "\n"
          ],
          "name": "stdout"
        }
      ]
    },
    {
      "cell_type": "code",
      "metadata": {
        "id": "5HgGHihodNLm",
        "colab_type": "code",
        "colab": {}
      },
      "source": [
        ""
      ],
      "execution_count": 0,
      "outputs": []
    }
  ]
}